{
 "cells": [
  {
   "cell_type": "code",
   "execution_count": 1,
   "metadata": {},
   "outputs": [],
   "source": [
    "import pandas as pd\n",
    "import numpy as np"
   ]
  },
  {
   "cell_type": "code",
   "execution_count": 2,
   "metadata": {},
   "outputs": [],
   "source": [
    "# Reading the sales data CSV file and converting specific date columns to datetime format for easier manipulation\n",
    "df = pd.read_csv('quarterly_df.csv', low_memory=False)"
   ]
  },
  {
   "cell_type": "code",
   "execution_count": 3,
   "metadata": {},
   "outputs": [],
   "source": [
    "# Function to extract quarter and year from a date\n",
    "def get_quarter_year_from_date(date):\n",
    "    # Subtract one day from the date to get the correct quarter\n",
    "    date = pd.to_datetime(date) - pd.Timedelta(days=1)\n",
    "    return str(date.year) + 'Q' + str(date.quarter)\n",
    "\n",
    "df['pred_close_q'] = df['Opportunity_Close_Date'].apply(get_quarter_year_from_date)"
   ]
  },
  {
   "cell_type": "code",
   "execution_count": 9,
   "metadata": {},
   "outputs": [],
   "source": [
    "# Initializing a new column for the true closing quarter of opportunities\n",
    "df['close_won_q'] = None\n",
    "\n",
    "# Iterating over each row in DataFrame to determine the actual closing quarter based on certain conditions\n",
    "for index, curr_row in df.iterrows():\n",
    "    curr_id = curr_row['Opportunity_ID']\n",
    "    curr_opp_df = df[df['Opportunity_ID'] == curr_id].copy()\n",
    "\n",
    "    closed_row = curr_opp_df[(curr_opp_df['Opportunity_Stage'] == 'Closed Won')]\n",
    "    \n",
    "    if len(closed_row) > 0:\n",
    "        true_close_q = closed_row['Year_Quarter'].values[0]\n",
    "        df.loc[index, 'close_won_q'] = true_close_q\n",
    "\n",
    "# Function to calculate the next quarter from a given quarter-year string\n",
    "def add_one_quarter(date_str):\n",
    "    if date_str == None:\n",
    "        return None\n",
    "\n",
    "    quarter = int(date_str[-1])\n",
    "    year = int(date_str[0:4])\n",
    "    if quarter == 4:\n",
    "        quarter = 1\n",
    "        year += 1\n",
    "    else:\n",
    "        quarter += 1\n",
    "    return str(year) + 'Q' + str(quarter)\n",
    "\n",
    "# Applying the function to create a new column for the next quarter\n",
    "df['next_quarter'] = df['Year_Quarter'].apply(add_one_quarter)"
   ]
  },
  {
   "cell_type": "code",
   "execution_count": 10,
   "metadata": {},
   "outputs": [
    {
     "data": {
      "text/plain": [
       "0.04078212290502793"
      ]
     },
     "execution_count": 10,
     "metadata": {},
     "output_type": "execute_result"
    }
   ],
   "source": [
    "df['q_1'] = df['next_quarter'] == df['close_won_q']\n",
    "df['q_1'] = df['q_1'].astype(int)\n",
    "\n",
    "df['q_1'].mean()"
   ]
  },
  {
   "cell_type": "code",
   "execution_count": 11,
   "metadata": {},
   "outputs": [],
   "source": [
    "df['q2_a'] = df['pred_close_q'] == df['close_won_q']\n",
    "df['q2_a'] = df['q2_a'].astype(int)\n",
    "\n",
    "df['q2_b'] = (df['pred_close_q'] == df['close_won_q']) | \\\n",
    "                (df['pred_close_q'] == df['close_won_q'].apply(add_one_quarter))\n",
    "df['q2_b'] = df['q2_b'].astype(int)"
   ]
  }
 ],
 "metadata": {
  "kernelspec": {
   "display_name": ".venv",
   "language": "python",
   "name": "python3"
  },
  "language_info": {
   "codemirror_mode": {
    "name": "ipython",
    "version": 3
   },
   "file_extension": ".py",
   "mimetype": "text/x-python",
   "name": "python",
   "nbconvert_exporter": "python",
   "pygments_lexer": "ipython3",
   "version": "3.11.5"
  }
 },
 "nbformat": 4,
 "nbformat_minor": 2
}
