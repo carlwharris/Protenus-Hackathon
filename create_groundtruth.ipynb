{
 "cells": [
  {
   "cell_type": "code",
   "execution_count": 1,
   "metadata": {},
   "outputs": [],
   "source": [
    "import pandas as pd\n",
    "import numpy as np"
   ]
  },
  {
   "cell_type": "code",
   "execution_count": 2,
   "metadata": {},
   "outputs": [],
   "source": [
    "df = pd.read_csv('Protenus Sales Training Data.csv', low_memory=False)\n",
    "df['Snapshot_Date'] = pd.to_datetime(df['Snapshot_Date'], format='%m/%d/%y')\n",
    "df['Opportunity_Created_Date'] = pd.to_datetime(df['Opportunity_Created_Date'], format='%m/%d/%y')\n",
    "df['Opportunity_Close_Date'] = pd.to_datetime(df['Opportunity_Close_Date'], format='%m/%d/%y')"
   ]
  },
  {
   "cell_type": "code",
   "execution_count": 3,
   "metadata": {},
   "outputs": [],
   "source": [
    "def get_quarter_year_from_date(date):\n",
    "    return 'Q' + str(date.quarter) + '-' + str(date.year)\n",
    "\n",
    "df['Snapshot_Quarter'] = df['Snapshot_Date'].apply(get_quarter_year_from_date)\n",
    "df['Opportunity_Close_Quarter'] = df['Opportunity_Close_Date'].apply(get_quarter_year_from_date)"
   ]
  },
  {
   "cell_type": "code",
   "execution_count": 4,
   "metadata": {},
   "outputs": [],
   "source": [
    "df['true_close_q'] = None\n",
    "\n",
    "for index, curr_row in df.iterrows():\n",
    "    curr_id = curr_row['Opportunity_ID']\n",
    "    pred_close_q = curr_row['Opportunity_Close_Quarter']\n",
    "\n",
    "    curr_opp_df = df[df['Opportunity_ID'] == curr_id].copy()\n",
    "\n",
    "    closed_row = curr_opp_df[(curr_opp_df['Opportunity_Stage'] == 'Closed Won') | \\\n",
    "                            (curr_opp_df['Opportunity_Stage'] == 'Closed Lost')]\n",
    "    \n",
    "    if len(closed_row) > 0:\n",
    "        true_close_q = closed_row['Opportunity_Close_Quarter'].values[0]\n",
    "        df.loc[index, 'true_close_q'] = true_close_q\n",
    "\n",
    "df['pred_q_correct'] = df['true_close_q'] == df['Opportunity_Close_Quarter']\n",
    "df['pred_q_correct'] = df['pred_q_correct'].astype(int)"
   ]
  },
  {
   "cell_type": "code",
   "execution_count": 5,
   "metadata": {},
   "outputs": [],
   "source": [
    "def add_one_quarter(date_str):\n",
    "    quarter = int(date_str[1])\n",
    "    year = int(date_str[3:])\n",
    "    if quarter == 4:\n",
    "        quarter = 1\n",
    "        year += 1\n",
    "    else:\n",
    "        quarter += 1\n",
    "    return 'Q' + str(quarter) + '-' + str(year)\n",
    "\n",
    "df['next_quarter'] = df['Snapshot_Quarter'].apply(add_one_quarter)\n",
    "df['closed_next_q'] = df['Opportunity_Close_Quarter'] == df['next_quarter']\n",
    "df['closed_next_q'] = df['closed_next_q'].astype(int)\n",
    "df['pred_q_plus_1_correct'] = (df['true_close_q'] == df['next_quarter']) | (df['pred_q_correct'] == 1)"
   ]
  },
  {
   "cell_type": "code",
   "execution_count": 6,
   "metadata": {},
   "outputs": [],
   "source": [
    "# Apply one-hot encoding to categorical columns\n",
    "dummy_cols = ['Opportunity_Stage', 'Opportunity_Type', 'Opportunity_Product', 'Account_Electronic_Medical_Record_System', 'Account_Hospital_Type']\n",
    "df_dummies = pd.get_dummies(df, columns=dummy_cols)"
   ]
  },
  {
   "cell_type": "code",
   "execution_count": 9,
   "metadata": {},
   "outputs": [
    {
     "name": "stdout",
     "output_type": "stream",
     "text": [
      "0.09214245336348219\n"
     ]
    },
    {
     "name": "stderr",
     "output_type": "stream",
     "text": [
      "/var/folders/ts/q1y61_j510l6blv4tx_7hplc0000gn/T/ipykernel_89190/1577116544.py:22: FutureWarning: Series.__getitem__ treating keys as positions is deprecated. In a future version, integer keys will always be treated as labels (consistent with DataFrame behavior). To access a value by position, use `ser.iloc[pos]`\n",
      "  y_test.value_counts()[0] / len(y_test)\n"
     ]
    },
    {
     "data": {
      "text/plain": [
       "0.09044657998869418"
      ]
     },
     "execution_count": 9,
     "metadata": {},
     "output_type": "execute_result"
    }
   ],
   "source": [
    "# Train a model to predict whether closed in next quarter\n",
    "from sklearn.model_selection import train_test_split\n",
    "from sklearn.ensemble import RandomForestClassifier\n",
    "from sklearn.metrics import accuracy_score\n",
    "\n",
    "# X = df_dummies.drop(['Opportunity_ID', 'Opportunity_Stage', 'Opportunity_Created_Date', 'Opportunity_Close_Date', 'Snapshot_Date', 'Snapshot_Quarter', 'Opportunity_Close_Quarter', 'true_close_q', 'next_quarter', 'closed_next_q'], axis=1)\n",
    "# Get cols in df_dummies that loook like dummy cols\n",
    "dummy_cols = [col for col in df_dummies.columns if col.startswith('Opportunity_Stage') or col.startswith('Opportunity_Type') or col.startswith('Opportunity_Product') or col.startswith('Account_Electronic_Medical_Record_System') or col.startswith('Account_Hospital_Type')]\n",
    "X = df_dummies[dummy_cols]\n",
    "y = df_dummies['next_quarter']\n",
    "\n",
    "X_train, X_test, y_train, y_test = train_test_split(X, y, test_size=0.2)\n",
    "\n",
    "clf = RandomForestClassifier(n_estimators=100, max_depth=2, random_state=0)\n",
    "clf.fit(X_train, y_train)\n",
    "\n",
    "y_pred = clf.predict(X_test)\n",
    "print(accuracy_score(y_test, y_pred))\n",
    "\n",
    "# Evaluate whether model is better than random guessing\n",
    "# Random guessing accuracy\n",
    "y_test.value_counts()[0] / len(y_test)\n"
   ]
  }
 ],
 "metadata": {
  "kernelspec": {
   "display_name": ".venv",
   "language": "python",
   "name": "python3"
  },
  "language_info": {
   "codemirror_mode": {
    "name": "ipython",
    "version": 3
   },
   "file_extension": ".py",
   "mimetype": "text/x-python",
   "name": "python",
   "nbconvert_exporter": "python",
   "pygments_lexer": "ipython3",
   "version": "3.11.5"
  }
 },
 "nbformat": 4,
 "nbformat_minor": 2
}
