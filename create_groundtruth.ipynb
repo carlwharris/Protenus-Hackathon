{
 "cells": [
  {
   "cell_type": "code",
   "execution_count": 47,
   "metadata": {},
   "outputs": [],
   "source": [
    "import pandas as pd\n",
    "import numpy as np"
   ]
  },
  {
   "cell_type": "code",
   "execution_count": 48,
   "metadata": {},
   "outputs": [],
   "source": [
    "df = pd.read_csv('Protenus Sales Training Data.csv', low_memory=False)\n",
    "df['Snapshot_Date'] = pd.to_datetime(df['Snapshot_Date'], format='%m/%d/%y')\n",
    "df['Opportunity_Created_Date'] = pd.to_datetime(df['Opportunity_Created_Date'], format='%m/%d/%y')\n",
    "df['Opportunity_Close_Date'] = pd.to_datetime(df['Opportunity_Close_Date'], format='%m/%d/%y')"
   ]
  },
  {
   "cell_type": "code",
   "execution_count": 49,
   "metadata": {},
   "outputs": [],
   "source": [
    "def get_quarter_year_from_date(date):\n",
    "    return 'Q' + str(date.quarter) + '-' + str(date.year)\n",
    "\n",
    "df['Snapshot_Quarter'] = df['Snapshot_Date'].apply(get_quarter_year_from_date)\n",
    "df['Opportunity_Close_Quarter'] = df['Opportunity_Close_Date'].apply(get_quarter_year_from_date)\n",
    "\n"
   ]
  },
  {
   "cell_type": "code",
   "execution_count": 50,
   "metadata": {},
   "outputs": [],
   "source": [
    "df['true_close_q'] = None\n",
    "\n",
    "for index, curr_row in df.iterrows():\n",
    "    curr_id = curr_row['Opportunity_ID']\n",
    "    pred_close_q = curr_row['Opportunity_Close_Quarter']\n",
    "\n",
    "    curr_opp_df = df[df['Opportunity_ID'] == curr_id].copy()\n",
    "\n",
    "    closed_row = curr_opp_df[(curr_opp_df['Opportunity_Stage'] == 'Closed Won') | \\\n",
    "                            (curr_opp_df['Opportunity_Stage'] == 'Closed Lost')]\n",
    "    \n",
    "    if len(closed_row) > 0:\n",
    "        true_close_q = closed_row['Opportunity_Close_Quarter'].values[0]\n",
    "        df.loc[index, 'true_close_q'] = true_close_q\n",
    "\n",
    "df['pred_q_correct'] = df['true_close_q'] == df['Opportunity_Close_Quarter']\n",
    "df['pred_q_correct'] = df['pred_q_correct'].astype(int)"
   ]
  },
  {
   "cell_type": "code",
   "execution_count": 60,
   "metadata": {},
   "outputs": [],
   "source": [
    "def add_one_quarter(date_str):\n",
    "    quarter = int(date_str[1])\n",
    "    year = int(date_str[3:])\n",
    "    if quarter == 4:\n",
    "        quarter = 1\n",
    "        year += 1\n",
    "    else:\n",
    "        quarter += 1\n",
    "    return 'Q' + str(quarter) + '-' + str(year)\n",
    "\n",
    "df['next_quarter'] = df['Snapshot_Quarter'].apply(add_one_quarter)\n",
    "df['closed_next_q'] = df['Opportunity_Close_Quarter'] == df['next_quarter']\n",
    "df['closed_next_q'] = df['closed_next_q'].astype(int)\n",
    "df['pred_q_plus_1_correct'] = (df['true_close_q'] == df['next_quarter']) | (df['pred_q_correct'] == 1)"
   ]
  },
  {
   "cell_type": "code",
   "execution_count": 61,
   "metadata": {},
   "outputs": [
    {
     "data": {
      "text/plain": [
       "Index(['Snapshot_Date', 'Opportunity_ID', 'Opportunity_Stage',\n",
       "       'Opportunity_Type', 'Opportunity_Annual_Amount',\n",
       "       'Opportunity_Created_Date', 'Opportunity_Close_Date',\n",
       "       'Opportunity_Product', 'Account_Electronic_Medical_Record_System',\n",
       "       'Account_Hospital_Type', 'Account_Fiscal_Year_End', 'Account_State',\n",
       "       'Account_Zip_Code', 'Account_Number_of_Hospitals ',\n",
       "       'Account_Number_of_Beds', 'Account_Number_of_Affiliated_Physicians',\n",
       "       'Account_Number_of_Employee', 'Account_Cash_on_Hand',\n",
       "       'Account_Total_Patient_Revenue', 'Account_Net_Patient_Revenue',\n",
       "       'Snapshot_Quarter', 'Opportunity_Close_Quarter', 'true_close_q',\n",
       "       'pred_q_correct', 'next_quarter', 'closed_next_q',\n",
       "       'pred_q_plus_1_correct'],\n",
       "      dtype='object')"
      ]
     },
     "execution_count": 61,
     "metadata": {},
     "output_type": "execute_result"
    }
   ],
   "source": [
    "df.columns"
   ]
  },
  {
   "cell_type": "code",
   "execution_count": 62,
   "metadata": {},
   "outputs": [],
   "source": [
    "# Apply one-hot encoding to categorical columns\n",
    "dummy_cols = ['Opportunity_Stage', 'Opportunity_Type', 'Opportunity_Product', 'Account_Electronic_Medical_Record_System', 'Account_Hospital_Type']\n",
    "df_dummies = pd.get_dummies(df, columns=dummy_cols)\n"
   ]
  },
  {
   "cell_type": "code",
   "execution_count": 64,
   "metadata": {},
   "outputs": [
    {
     "data": {
      "text/plain": [
       "0.09723007348784624"
      ]
     },
     "execution_count": 64,
     "metadata": {},
     "output_type": "execute_result"
    }
   ],
   "source": [
    "# Train a model to predict whether closed in next quarter\n",
    "from sklearn.model_selection import train_test_split\n",
    "from sklearn.ensemble import RandomForestClassifier\n",
    "from sklearn.metrics import accuracy_score\n",
    "\n",
    "# X = df_dummies.drop(['Opportunity_ID', 'Opportunity_Stage', 'Opportunity_Created_Date', 'Opportunity_Close_Date', 'Snapshot_Date', 'Snapshot_Quarter', 'Opportunity_Close_Quarter', 'true_close_q', 'next_quarter', 'closed_next_q'], axis=1)\n",
    "# Get cols in df_dummies that loook like dummy cols\n",
    "dummy_cols = [col for col in df_dummies.columns if col.startswith('Opportunity_Stage') or col.startswith('Opportunity_Type') or col.startswith('Opportunity_Product') or col.startswith('Account_Electronic_Medical_Record_System') or col.startswith('Account_Hospital_Type')]\n",
    "X = df_dummies[dummy_cols]\n",
    "y = df_dummies['next_quarter']\n",
    "\n",
    "X_train, X_test, y_train, y_test = train_test_split(X, y, test_size=0.2)\n",
    "\n",
    "clf = RandomForestClassifier(n_estimators=100, max_depth=2, random_state=0)\n",
    "clf.fit(X_train, y_train)\n",
    "\n",
    "y_pred = clf.predict(X_test)\n",
    "accuracy_score(y_test, y_pred)\n"
   ]
  },
  {
   "cell_type": "code",
   "execution_count": 59,
   "metadata": {},
   "outputs": [
    {
     "data": {
      "text/plain": [
       "Index(['Snapshot_Date', 'Opportunity_ID', 'Opportunity_Annual_Amount',\n",
       "       'Opportunity_Created_Date', 'Opportunity_Close_Date',\n",
       "       'Account_Fiscal_Year_End', 'Account_State', 'Account_Zip_Code',\n",
       "       'Account_Number_of_Hospitals ', 'Account_Number_of_Beds',\n",
       "       'Account_Number_of_Affiliated_Physicians', 'Account_Number_of_Employee',\n",
       "       'Account_Cash_on_Hand', 'Account_Total_Patient_Revenue',\n",
       "       'Account_Net_Patient_Revenue', 'Snapshot_Quarter',\n",
       "       'Opportunity_Close_Quarter', 'true_close_q', 'pred_q_correct',\n",
       "       'next_quarter', 'closed_next_q', 'Opportunity_Stage_Closed Lost',\n",
       "       'Opportunity_Stage_Closed Won',\n",
       "       'Opportunity_Stage_Stage 0 - Prospecting',\n",
       "       'Opportunity_Stage_Stage 1 - Evaluating',\n",
       "       'Opportunity_Stage_Stage 2 - Scoping',\n",
       "       'Opportunity_Stage_Stage 3 - Pricing',\n",
       "       'Opportunity_Stage_Stage 4 - Verbal / VOC',\n",
       "       'Opportunity_Stage_Stage 5 - Contracting',\n",
       "       'Opportunity_Type_Existing Business', 'Opportunity_Type_New Business',\n",
       "       'Opportunity_Product_0', 'Opportunity_Product_Compliance Analytics',\n",
       "       'Opportunity_Product_Diversion Monitoring',\n",
       "       'Opportunity_Product_Privacy Monitoring',\n",
       "       'Account_Electronic_Medical_Record_System_Cerner',\n",
       "       'Account_Electronic_Medical_Record_System_Epic',\n",
       "       'Account_Electronic_Medical_Record_System_Meditech',\n",
       "       'Account_Electronic_Medical_Record_System_Other',\n",
       "       'Account_Hospital_Type_Childrens Hospital',\n",
       "       'Account_Hospital_Type_Critical Access Hospital',\n",
       "       'Account_Hospital_Type_Health System',\n",
       "       'Account_Hospital_Type_Long Term Acute Care Hospital',\n",
       "       'Account_Hospital_Type_Psychiatric Hospital',\n",
       "       'Account_Hospital_Type_Rehabilitation Hospital',\n",
       "       'Account_Hospital_Type_Short Term Acute Care Hospital'],\n",
       "      dtype='object')"
      ]
     },
     "execution_count": 59,
     "metadata": {},
     "output_type": "execute_result"
    }
   ],
   "source": [
    "df_dummies.columns"
   ]
  },
  {
   "cell_type": "code",
   "execution_count": 34,
   "metadata": {},
   "outputs": [
    {
     "data": {
      "text/plain": [
       "Index(['Snapshot_Date', 'Opportunity_ID', 'Opportunity_Stage',\n",
       "       'Opportunity_Type', 'Opportunity_Annual_Amount',\n",
       "       'Opportunity_Created_Date', 'Opportunity_Close_Date',\n",
       "       'Opportunity_Product', 'Account_Electronic_Medical_Record_System',\n",
       "       'Account_Hospital_Type', 'Account_Fiscal_Year_End', 'Account_State',\n",
       "       'Account_Zip_Code', 'Account_Number_of_Hospitals ',\n",
       "       'Account_Number_of_Beds', 'Account_Number_of_Affiliated_Physicians',\n",
       "       'Account_Number_of_Employee', 'Account_Cash_on_Hand',\n",
       "       'Account_Total_Patient_Revenue', 'Account_Net_Patient_Revenue',\n",
       "       'Snapshot_Quarter', 'Opportunity_Close_Quarter', 'pred_q_correct',\n",
       "       'true_close_q', 'next_quarter', 'closed_next_q'],\n",
       "      dtype='object')"
      ]
     },
     "execution_count": 34,
     "metadata": {},
     "output_type": "execute_result"
    }
   ],
   "source": [
    "df.columns"
   ]
  },
  {
   "cell_type": "code",
   "execution_count": 22,
   "metadata": {},
   "outputs": [
    {
     "data": {
      "text/plain": [
       "Snapshot_Date                                2022-08-01 00:00:00\n",
       "Opportunity_ID                                   0064100000TL1Fw\n",
       "Opportunity_Stage                                    Closed Lost\n",
       "Opportunity_Type                                    New Business\n",
       "Opportunity_Annual_Amount                            317822.6165\n",
       "Opportunity_Created_Date                     2018-09-12 00:00:00\n",
       "Opportunity_Close_Date                       2022-07-07 00:00:00\n",
       "Opportunity_Product                         Diversion Monitoring\n",
       "Account_Electronic_Medical_Record_System                    Epic\n",
       "Account_Hospital_Type                         Childrens Hospital\n",
       "Account_Fiscal_Year_End                                 12/31/23\n",
       "Account_State                                                 OH\n",
       "Account_Zip_Code                                         43205.0\n",
       "Account_Number_of_Hospitals                                  2.0\n",
       "Account_Number_of_Beds                                     694.0\n",
       "Account_Number_of_Affiliated_Physicians                   2196.0\n",
       "Account_Number_of_Employee                                7282.0\n",
       "Account_Cash_on_Hand                                  85077078.0\n",
       "Account_Total_Patient_Revenue                       3652792418.0\n",
       "Account_Net_Patient_Revenue                         2048660855.0\n",
       "Snapshot_Quarter                                         Q3-2022\n",
       "Opportunity_Close_Quarter                                Q3-2022\n",
       "pred_q_correct                                              None\n",
       "Name: 8843, dtype: object"
      ]
     },
     "execution_count": 22,
     "metadata": {},
     "output_type": "execute_result"
    }
   ],
   "source": [
    "closed_row"
   ]
  },
  {
   "cell_type": "code",
   "execution_count": 23,
   "metadata": {},
   "outputs": [
    {
     "data": {
      "text/plain": [
       "'Q3-2022'"
      ]
     },
     "execution_count": 23,
     "metadata": {},
     "output_type": "execute_result"
    }
   ],
   "source": [
    "closed_q"
   ]
  },
  {
   "cell_type": "code",
   "execution_count": 10,
   "metadata": {},
   "outputs": [
    {
     "data": {
      "text/plain": [
       "array(['Stage 2 - Scoping', 'Closed Lost', 'Stage 3 - Pricing',\n",
       "       'Stage 1 - Evaluating', 'Stage 4 - Verbal / VOC',\n",
       "       'Stage 5 - Contracting', 'Closed Won', 'Stage 0 - Prospecting'],\n",
       "      dtype=object)"
      ]
     },
     "execution_count": 10,
     "metadata": {},
     "output_type": "execute_result"
    }
   ],
   "source": [
    "df['Opportunity_Stage'].unique()"
   ]
  },
  {
   "cell_type": "code",
   "execution_count": 5,
   "metadata": {},
   "outputs": [
    {
     "data": {
      "text/plain": [
       "Index(['Snapshot_Date', 'Opportunity_ID', 'Opportunity_Stage',\n",
       "       'Opportunity_Type', 'Opportunity_Annual_Amount',\n",
       "       'Opportunity_Created_Date', 'Opportunity_Close_Date',\n",
       "       'Opportunity_Product', 'Account_Electronic_Medical_Record_System',\n",
       "       'Account_Hospital_Type', 'Account_Fiscal_Year_End', 'Account_State',\n",
       "       'Account_Zip_Code', 'Account_Number_of_Hospitals ',\n",
       "       'Account_Number_of_Beds', 'Account_Number_of_Affiliated_Physicians',\n",
       "       'Account_Number_of_Employee', 'Account_Cash_on_Hand',\n",
       "       'Account_Total_Patient_Revenue', 'Account_Net_Patient_Revenue'],\n",
       "      dtype='object')"
      ]
     },
     "execution_count": 5,
     "metadata": {},
     "output_type": "execute_result"
    }
   ],
   "source": [
    "df.columns"
   ]
  }
 ],
 "metadata": {
  "kernelspec": {
   "display_name": ".venv",
   "language": "python",
   "name": "python3"
  },
  "language_info": {
   "codemirror_mode": {
    "name": "ipython",
    "version": 3
   },
   "file_extension": ".py",
   "mimetype": "text/x-python",
   "name": "python",
   "nbconvert_exporter": "python",
   "pygments_lexer": "ipython3",
   "version": "3.11.5"
  }
 },
 "nbformat": 4,
 "nbformat_minor": 2
}
